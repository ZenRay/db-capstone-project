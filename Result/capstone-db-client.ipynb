{
 "cells": [
  {
   "cell_type": "code",
   "execution_count": 1,
   "id": "79be844b-0f8a-4fb3-8b40-b204f7699cc6",
   "metadata": {},
   "outputs": [
    {
     "name": "stdout",
     "output_type": "stream",
     "text": [
      "Requirement already satisfied: mysql-connector-python in c:\\python310\\lib\\site-packages (8.0.31)\n",
      "Requirement already satisfied: protobuf<=3.20.1,>=3.11.0 in c:\\python310\\lib\\site-packages (from mysql-connector-python) (3.20.1)\n"
     ]
    },
    {
     "name": "stderr",
     "output_type": "stream",
     "text": [
      "WARNING: Ignoring invalid distribution -ip (c:\\python310\\lib\\site-packages)\n",
      "WARNING: Ignoring invalid distribution -ip (c:\\python310\\lib\\site-packages)\n",
      "WARNING: Ignoring invalid distribution -ip (c:\\python310\\lib\\site-packages)\n",
      "WARNING: Ignoring invalid distribution -ip (c:\\python310\\lib\\site-packages)\n",
      "WARNING: Ignoring invalid distribution -ip (c:\\python310\\lib\\site-packages)\n"
     ]
    }
   ],
   "source": [
    "!pip install mysql-connector-python"
   ]
  },
  {
   "cell_type": "code",
   "execution_count": 9,
   "id": "9bcdc320-ffe0-4b23-9bbb-a2197bac753f",
   "metadata": {},
   "outputs": [],
   "source": [
    "import mysql.connector as connector"
   ]
  },
  {
   "cell_type": "code",
   "execution_count": 10,
   "id": "023a6d44-3e0a-4e91-813d-fb9aa56c3804",
   "metadata": {},
   "outputs": [],
   "source": [
    "connection = connector.connect(user=\"root\", password=\"\", db=\"littlelemondb\")"
   ]
  },
  {
   "cell_type": "code",
   "execution_count": 11,
   "id": "b6491659-d609-4ec7-a3d8-fbf46cb351f9",
   "metadata": {},
   "outputs": [],
   "source": [
    "cursor = connection.cursor()"
   ]
  },
  {
   "cell_type": "code",
   "execution_count": 12,
   "id": "91613eaf-143d-4a1a-b142-80915497e7bc",
   "metadata": {},
   "outputs": [
    {
     "name": "stdout",
     "output_type": "stream",
     "text": [
      "[('bookings',), ('cuisines',), ('customers',), ('deliverystatuses',), ('menus',), ('menutypes',), ('orderdeliverystatuses',), ('orders',), ('ordersview',), ('staff',)]\n"
     ]
    }
   ],
   "source": [
    "# Testing the connection\n",
    "show_tables_query = \"SHOW tables\" \n",
    "cursor.execute(show_tables_query)\n",
    "results = cursor.fetchall()\n",
    "print(results)"
   ]
  },
  {
   "cell_type": "code",
   "execution_count": 14,
   "id": "3a986b84-9991-4536-a6d3-a661d1b395dc",
   "metadata": {},
   "outputs": [
    {
     "name": "stdout",
     "output_type": "stream",
     "text": [
      "('Full Name', 'Contact Details', 'Bill Amount')\n"
     ]
    }
   ],
   "source": [
    "# Retrieve the full name, contact details, and the bill amount \n",
    "# for every customer that has placed an order greater than $60\n",
    "select_query = \"\"\"\n",
    "SELECT \n",
    "    CONCAT(Customers.FirstName, ' ', Customers.LastName) AS 'Full Name',\n",
    "    Customers.PhoneNumber AS 'Contact Details',\n",
    "    Orders.TotalCost AS 'Bill Amount'\n",
    "FROM Customers\n",
    "INNER JOIN Bookings\n",
    "    USING(CustomerID)\n",
    "INNER JOIN Orders\n",
    "    USING(BookingID)\n",
    "WHERE Orders.TotalCost > 60\n",
    "\"\"\"\n",
    "\n",
    "cursor.execute(select_query)\n",
    "\n",
    "results = cursor.fetchall()\n",
    "\n",
    "colnames = cursor.column_names\n",
    "print(colnames)\n",
    "\n",
    "for result in results:\n",
    "    print(result)"
   ]
  },
  {
   "cell_type": "code",
   "execution_count": 15,
   "id": "6b0edf19-b0c7-458d-99f7-c258cac81f28",
   "metadata": {},
   "outputs": [],
   "source": [
    "connection.close()"
   ]
  },
  {
   "cell_type": "code",
   "execution_count": null,
   "id": "f41e2526-b5d5-4c44-bb68-6a7ab98b21fa",
   "metadata": {},
   "outputs": [],
   "source": []
  }
 ],
 "metadata": {
  "kernelspec": {
   "display_name": "Python 3 (ipykernel)",
   "language": "python",
   "name": "python3"
  },
  "language_info": {
   "codemirror_mode": {
    "name": "ipython",
    "version": 3
   },
   "file_extension": ".py",
   "mimetype": "text/x-python",
   "name": "python",
   "nbconvert_exporter": "python",
   "pygments_lexer": "ipython3",
   "version": "3.10.4"
  }
 },
 "nbformat": 4,
 "nbformat_minor": 5
}
